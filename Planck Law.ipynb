{
 "cells": [
  {
   "cell_type": "code",
   "execution_count": 3,
   "metadata": {},
   "outputs": [],
   "source": [
    "%matplotlib inline\n",
    "import matplotlib.pyplot as plt\n",
    "import math\n",
    "from matplotlib.ticker import FormatStrFormatter #x-unit-of-measurement \n",
    "import matplotlib.ticker as mticker #y-unit-of-measurement \n",
    "import numpy as np"
   ]
  },
  {
   "cell_type": "code",
   "execution_count": 7,
   "metadata": {},
   "outputs": [
    {
     "name": "stdout",
     "output_type": "stream",
     "text": [
      "5500\n"
     ]
    }
   ],
   "source": [
    "T= float(input())"
   ]
  },
  {
   "cell_type": "code",
   "execution_count": 9,
   "metadata": {},
   "outputs": [
    {
     "name": "stdout",
     "output_type": "stream",
     "text": [
      "0.002897\n"
     ]
    }
   ],
   "source": [
    "T = 5500\n",
    "#pi = 3.14 \n",
    "np.pi\n",
    "\n",
    "h = 6.626e-34\n",
    "c = 3.0e+8\n",
    "k = 1.38e-23\n",
    "w=2.897e-3\n",
    "\n",
    "print(w)"
   ]
  },
  {
   "cell_type": "code",
   "execution_count": 5,
   "metadata": {},
   "outputs": [
    {
     "name": "stderr",
     "output_type": "stream",
     "text": [
      "C:\\Users\\Rafael Castilho\\Anaconda2\\lib\\site-packages\\ipykernel_launcher.py:4: RuntimeWarning: overflow encountered in power\n",
      "  after removing the cwd from sys.path.\n"
     ]
    }
   ],
   "source": [
    "def planck(l, T):\n",
    "    a = 2.0*h*pi*c**2\n",
    "    b = h*c/(l*k*T)\n",
    "    u = a/ ( (l**5)*(math.e**b - 1.0) )\n",
    "    return u\n",
    "\n",
    "wave =  np.arange(1e-9, 3e-6, 1e-9) \n",
    "I = planck(wave,T)\n",
    "\n"
   ]
  },
  {
   "cell_type": "code",
   "execution_count": 75,
   "metadata": {},
   "outputs": [],
   "source": [
    "\n",
    "g= (w/T)*1e9"
   ]
  },
  {
   "cell_type": "code",
   "execution_count": 100,
   "metadata": {},
   "outputs": [
    {
     "data": {
      "image/png": "[encoded data removed]",
      "text/plain": [
       "<Figure size 432x288 with 1 Axes>"
      ]
     },
     "metadata": {},
     "output_type": "display_data"
    }
   ],
   "source": [
    "plt.hold(True) # doesn't erase plots on subsequent calls of plt.plot()\n",
    "\n",
    "plt.plot(wave*1e9, I, 'g-')\n",
    "\n",
    "#plt.plot([g], [I], 'ro')\n",
    "plt.axvline(g, ls = '-', color = 'r') \n",
    "#plt.axhline(3, ls = '-', color = 'r') \n",
    "\n",
    "plt.xlim(.1,3e3)\n",
    "\n",
    "plt.ylabel('Intensity [$\\\\rm W sr^{-1} m^{3}$]', size=20)\n",
    "plt.xlabel('Wavelength  [nm]')\n",
    "\n",
    "#plt.gca().yaxis.set_major_formatter(mticker.FormatStrFormatter('%d W'))\n",
    "#plt.gca().xaxis.set_major_formatter(FormatStrFormatter('%d nm'))\n",
    "\n",
    "plt.show()\n",
    "\n",
    "\n",
    "\n",
    "#fig.savefig('./Plank_Law.pdf', dpi = 300, bbox_inches='tight')"
   ]
  },
  {
   "cell_type": "code",
   "execution_count": null,
   "metadata": {},
   "outputs": [],
   "source": []
  }
 ],
 "metadata": {
  "kernelspec": {
   "display_name": "Python 2",
   "language": "python",
   "name": "python2"
  },
  "language_info": {
   "codemirror_mode": {
    "name": "ipython",
    "version": 2
   },
   "file_extension": ".py",
   "mimetype": "text/x-python",
   "name": "python",
   "nbconvert_exporter": "python",
   "pygments_lexer": "ipython2",
   "version": "2.7.15"
  }
 },
 "nbformat": 4,
 "nbformat_minor": 2
}
